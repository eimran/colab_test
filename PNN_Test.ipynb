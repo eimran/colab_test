{
  "nbformat": 4,
  "nbformat_minor": 0,
  "metadata": {
    "colab": {
      "provenance": []
    },
    "kernelspec": {
      "name": "python3",
      "display_name": "Python 3"
    },
    "language_info": {
      "name": "python"
    }
  },
  "cells": [
    {
      "cell_type": "code",
      "source": [
        "!git clone https://github.com/eimran/colab_test.git"
      ],
      "metadata": {
        "id": "sjJaG3QnpO0e",
        "outputId": "6ee15bcf-4c14-4610-a218-e4c346642431",
        "colab": {
          "base_uri": "https://localhost:8080/"
        }
      },
      "execution_count": 3,
      "outputs": [
        {
          "output_type": "stream",
          "name": "stdout",
          "text": [
            "Cloning into 'colab_test'...\n",
            "remote: Enumerating objects: 4, done.\u001b[K\n",
            "remote: Counting objects: 100% (4/4), done.\u001b[K\n",
            "remote: Compressing objects: 100% (3/3), done.\u001b[K\n",
            "remote: Total 4 (delta 0), reused 4 (delta 0), pack-reused 0 (from 0)\u001b[K\n",
            "Receiving objects: 100% (4/4), 43.17 KiB | 3.32 MiB/s, done.\n"
          ]
        }
      ]
    },
    {
      "cell_type": "code",
      "source": [
        "!git status"
      ],
      "metadata": {
        "id": "NcDD5Ik0qbix",
        "outputId": "ef4b808d-bafe-4caf-b79a-5ae530d270fd",
        "colab": {
          "base_uri": "https://localhost:8080/",
          "height": 106
        }
      },
      "execution_count": 5,
      "outputs": [
        {
          "output_type": "error",
          "ename": "SyntaxError",
          "evalue": "invalid syntax (ipython-input-3528599804.py, line 1)",
          "traceback": [
            "\u001b[0;36m  File \u001b[0;32m\"/tmp/ipython-input-3528599804.py\"\u001b[0;36m, line \u001b[0;32m1\u001b[0m\n\u001b[0;31m    git status\u001b[0m\n\u001b[0m        ^\u001b[0m\n\u001b[0;31mSyntaxError\u001b[0m\u001b[0;31m:\u001b[0m invalid syntax\n"
          ]
        }
      ]
    },
    {
      "cell_type": "code",
      "execution_count": null,
      "metadata": {
        "id": "1WqPvE9Ltdsi"
      },
      "outputs": [],
      "source": [
        "import torch\n",
        "import torch .nn as nn\n",
        "import numpy as np\n",
        "import matplotlib.pyplot as plt"
      ]
    },
    {
      "cell_type": "code",
      "source": [
        "# --------------------------\n",
        "# 1. Generate Synthetic Data\n",
        "# --------------------------\n",
        "\n",
        "# Physics parameters\n",
        "g = 9.8        # acceleration due to gravity\n",
        "h0 = 1.0       # initial height\n",
        "v0 = 10.0      # initial velocity\n",
        "\n",
        "# True (analytical) solution h(t) = h0 + v0*t - 0.5*g*t^2\n",
        "def true_solution(t):\n",
        "    return h0 + v0*t - 0.5*g*(t**2)\n",
        "\n",
        "# Generate some time points\n",
        "t_min, t_max = 0.0, 2.0\n",
        "N_data = 10\n",
        "t_data = np.linspace(t_min, t_max, N_data)\n",
        "\n",
        "# Generate synthetic \"experimental\" heights with noise\n",
        "np.random.seed(0)\n",
        "noise_level = 0.7\n",
        "h_data_exact = true_solution(t_data)\n",
        "h_data_noisy = h_data_exact + noise_level*np.random.randn(N_data)\n",
        "\n",
        "# Convert to PyTorch tensors\n",
        "t_data_tensor = torch.tensor(t_data, dtype=torch.float32).view(-1, 1)\n",
        "h_data_tensor = torch.tensor(h_data_noisy, dtype=torch.float32).view(-1, 1)"
      ],
      "metadata": {
        "id": "s6nBy2VouEKr"
      },
      "execution_count": null,
      "outputs": []
    },
    {
      "cell_type": "markdown",
      "source": [
        "Define a small feed-forward neural network for h(t)"
      ],
      "metadata": {
        "id": "ieB2mRKx5VIR"
      }
    },
    {
      "cell_type": "code",
      "source": [
        "# --------------------------------------------------------\n",
        "# 2. Define a small feed-forward neural network for h(t)\n",
        "# --------------------------------------------------------\n",
        "class PINN(nn.Module):\n",
        "    def __init__(self, n_hidden=20):\n",
        "        super(PINN, self).__init__()\n",
        "        # A simple MLP with 2 hidden layers\n",
        "        self.net = nn.Sequential(\n",
        "            nn.Linear(1, n_hidden),\n",
        "            nn.Tanh(),\n",
        "            nn.Linear(n_hidden, n_hidden),\n",
        "            nn.Tanh(),\n",
        "            nn.Linear(n_hidden, 1)\n",
        "        )\n",
        "\n",
        "    def forward(self, t):\n",
        "        \"\"\"\n",
        "        Forward pass: input shape (batch_size, 1) -> output shape (batch_size, 1)\n",
        "        \"\"\"\n",
        "        return self.net(t)\n",
        "\n",
        "# Instantiate the model\n",
        "model = PINN(n_hidden=20)"
      ],
      "metadata": {
        "id": "DjLxfstCup1P"
      },
      "execution_count": null,
      "outputs": []
    },
    {
      "cell_type": "markdown",
      "source": [
        "Helper for Automatic Differentiation"
      ],
      "metadata": {
        "id": "hw9iu8fz5dSV"
      }
    },
    {
      "cell_type": "code",
      "source": [
        "# --------------------------------\n",
        "# 3. Helper for Automatic Diff\n",
        "# --------------------------------\n",
        "def derivative(y, x):\n",
        "    \"\"\"\n",
        "    Computes dy/dx using PyTorch's autograd.\n",
        "    y and x must be tensors with requires_grad=True for x.\n",
        "    \"\"\"\n",
        "    return torch.autograd.grad(\n",
        "        y, x,\n",
        "        grad_outputs=torch.ones_like(y),\n",
        "        create_graph=True\n",
        "    )[0]"
      ],
      "metadata": {
        "id": "uBmARiNfvtUD"
      },
      "execution_count": null,
      "outputs": []
    },
    {
      "cell_type": "markdown",
      "source": [
        "Define the Loss Components (PINN)"
      ],
      "metadata": {
        "id": "ZUIKQmh_5fhh"
      }
    },
    {
      "cell_type": "code",
      "source": [
        "# ----------------------------------------\n",
        "# 4. Define the Loss Components (PINN)\n",
        "# ----------------------------------------\n",
        "\n",
        "# We have:\n",
        "#    (1) Data loss (fit noisy data)\n",
        "#    (2) ODE loss: dh/dt = v0 - g * t\n",
        "#    (3) Initial condition loss: h(0) = h0\n",
        "\n",
        "def physics_loss(model, t):\n",
        "    \"\"\"\n",
        "    Compare d(h_pred)/dt with the known expression (v0 - g t).\n",
        "    \"\"\"\n",
        "    # t must have requires_grad = True for autograd to work\n",
        "    t.requires_grad_(True)\n",
        "\n",
        "    h_pred = model(t)\n",
        "    dh_dt_pred = derivative(h_pred, t)\n",
        "\n",
        "    # For each t, physics says dh/dt = v0 - g * t\n",
        "    dh_dt_true = v0 - g * t\n",
        "\n",
        "    loss_ode = torch.mean((dh_dt_pred - dh_dt_true)**2)\n",
        "    return loss_ode\n",
        "\n",
        "def initial_condition_loss(model):\n",
        "    \"\"\"\n",
        "    Enforce h(0) = h0.\n",
        "    \"\"\"\n",
        "    # Evaluate at t=0\n",
        "    t0 = torch.zeros(1, 1, dtype=torch.float32, requires_grad=False)\n",
        "    h0_pred = model(t0)\n",
        "    return (h0_pred - h0).pow(2).mean()\n",
        "\n",
        "def data_loss(model, t_data, h_data):\n",
        "    \"\"\"\n",
        "    MSE between predicted h(t_i) and noisy measurements h_data.\n",
        "    \"\"\"\n",
        "    h_pred = model(t_data)\n",
        "    return torch.mean((h_pred - h_data)**2)\n"
      ],
      "metadata": {
        "id": "iFS5Pt8E5a2k"
      },
      "execution_count": null,
      "outputs": []
    },
    {
      "cell_type": "markdown",
      "source": [
        "Training Setup"
      ],
      "metadata": {
        "id": "wt7gCwZR5j6X"
      }
    },
    {
      "cell_type": "code",
      "source": [
        "# ---------------------------------------\n",
        "# 5. Training Setup\n",
        "# ---------------------------------------\n",
        "optimizer = torch.optim.Adam(model.parameters(), lr=0.01)\n",
        "\n",
        "# Hyperparameters for weighting the loss terms\n",
        "lambda_data = 1.0\n",
        "lambda_ode  = 1.0\n",
        "lambda_ic   = 1.0\n",
        "\n",
        "# For logging\n",
        "num_epochs = 2000\n",
        "print_every = 200"
      ],
      "metadata": {
        "id": "QzVPuEGn5iPm"
      },
      "execution_count": null,
      "outputs": []
    },
    {
      "cell_type": "markdown",
      "source": [
        "Training Loop"
      ],
      "metadata": {
        "id": "63UHmwuQ5o9Q"
      }
    },
    {
      "cell_type": "code",
      "source": [
        "# ---------------------------------------\n",
        "# 6. Training Loop\n",
        "# ---------------------------------------\n",
        "model.train()\n",
        "for epoch in range(num_epochs):\n",
        "    optimizer.zero_grad()\n",
        "\n",
        "    # Compute losses\n",
        "    l_data = data_loss(model, t_data_tensor, h_data_tensor)\n",
        "    l_ode  = physics_loss(model, t_data_tensor)\n",
        "    l_ic   = initial_condition_loss(model)\n",
        "\n",
        "    # Combined loss\n",
        "    loss = lambda_data * l_data + lambda_ode * l_ode + lambda_ic * l_ic\n",
        "\n",
        "    # Backprop\n",
        "    loss.backward()\n",
        "    optimizer.step()\n",
        "\n",
        "    # Print progress\n",
        "    if (epoch+1) % print_every == 0:\n",
        "        print(f\"Epoch {epoch+1}/{num_epochs}, \"\n",
        "              f\"Total Loss = {loss.item():.6f}, \"\n",
        "              f\"Data Loss = {l_data.item():.6f}, \"\n",
        "              f\"ODE Loss = {l_ode.item():.6f}, \"\n",
        "              f\"IC Loss = {l_ic.item():.6f}\")"
      ],
      "metadata": {
        "colab": {
          "base_uri": "https://localhost:8080/"
        },
        "id": "UFAJPPEd5lj4",
        "outputId": "6d1feed1-f6d0-4c04-c2b0-ba5d6611b48b"
      },
      "execution_count": null,
      "outputs": [
        {
          "output_type": "stream",
          "name": "stdout",
          "text": [
            "Epoch 200/2000, Total Loss = 0.547967, Data Loss = 0.476178, ODE Loss = 0.034389, IC Loss = 0.037401\n",
            "Epoch 400/2000, Total Loss = 0.531852, Data Loss = 0.478231, ODE Loss = 0.024723, IC Loss = 0.028898\n",
            "Epoch 600/2000, Total Loss = 0.516125, Data Loss = 0.478232, ODE Loss = 0.020904, IC Loss = 0.016988\n",
            "Epoch 800/2000, Total Loss = 0.511678, Data Loss = 0.476037, ODE Loss = 0.021543, IC Loss = 0.014098\n",
            "Epoch 1000/2000, Total Loss = 0.508955, Data Loss = 0.473160, ODE Loss = 0.022258, IC Loss = 0.013536\n",
            "Epoch 1200/2000, Total Loss = 0.506235, Data Loss = 0.470082, ODE Loss = 0.022992, IC Loss = 0.013162\n",
            "Epoch 1400/2000, Total Loss = 0.503192, Data Loss = 0.466158, ODE Loss = 0.024184, IC Loss = 0.012851\n",
            "Epoch 1600/2000, Total Loss = 0.500837, Data Loss = 0.462488, ODE Loss = 0.025675, IC Loss = 0.012674\n",
            "Epoch 1800/2000, Total Loss = 0.499666, Data Loss = 0.460280, ODE Loss = 0.026755, IC Loss = 0.012630\n",
            "Epoch 2000/2000, Total Loss = 0.498798, Data Loss = 0.459122, ODE Loss = 0.027055, IC Loss = 0.012622\n"
          ]
        }
      ]
    },
    {
      "cell_type": "markdown",
      "source": [
        "Evaluate the Trained Model"
      ],
      "metadata": {
        "id": "hw-NRL125wBv"
      }
    },
    {
      "cell_type": "code",
      "source": [
        "# ---------------------------------------\n",
        "# 7. Evaluate the Trained Model\n",
        "# ---------------------------------------\n",
        "model.eval()\n",
        "t_plot = np.linspace(t_min, t_max, 100).reshape(-1, 1).astype(np.float32)\n",
        "t_plot_tensor = torch.tensor(t_plot, requires_grad=True)\n",
        "h_pred_plot = model(t_plot_tensor).detach().numpy()\n",
        "\n",
        "# True solution (for comparison)\n",
        "h_true_plot = true_solution(t_plot)\n",
        "\n",
        "# Plot results\n",
        "plt.figure(figsize=(8, 5))\n",
        "plt.scatter(t_data, h_data_noisy, color='red', label='Noisy Data')\n",
        "plt.plot(t_plot, h_true_plot, 'k--', label='Exact Solution')\n",
        "plt.plot(t_plot, h_pred_plot, 'b', label='PINN Prediction')\n",
        "plt.xlabel('t')\n",
        "plt.ylabel('h(t)')\n",
        "plt.legend()\n",
        "plt.title('PINN for Ball Trajectory')\n",
        "plt.grid(True)\n",
        "plt.show()"
      ],
      "metadata": {
        "colab": {
          "base_uri": "https://localhost:8080/",
          "height": 487
        },
        "id": "zyhC9xYN5rA6",
        "outputId": "ba6ee965-b1bb-4521-b003-1ae7a6c988fa"
      },
      "execution_count": null,
      "outputs": [
        {
          "output_type": "display_data",
          "data": {
            "text/plain": [
              "<Figure size 800x500 with 1 Axes>"
            ],
            "image/png": "[encoded data removed]"
          },
          "metadata": {}
        }
      ]
    },
    {
      "cell_type": "code",
      "source": [],
      "metadata": {
        "id": "KAepXl2p5yTk"
      },
      "execution_count": null,
      "outputs": []
    }
  ]
}