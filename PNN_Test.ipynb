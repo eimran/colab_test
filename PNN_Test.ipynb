{
  "nbformat": 4,
  "nbformat_minor": 0,
  "metadata": {
    "colab": {
      "provenance": [],
      "include_colab_link": true
    },
    "kernelspec": {
      "name": "python3",
      "display_name": "Python 3"
    },
    "language_info": {
      "name": "python"
    }
  },
  "cells": [
    {
      "cell_type": "markdown",
      "metadata": {
        "id": "view-in-github",
        "colab_type": "text"
      },
      "source": [
        "<a href=\"https://colab.research.google.com/github/eimran/colab_test/blob/main/PNN_Test.ipynb\" target=\"_parent\"><img src=\"https://colab.research.google.com/assets/colab-badge.svg\" alt=\"Open In Colab\"/></a>"
      ]
    },
    {
      "cell_type": "code",
      "source": [
        "!git clone https://github.com/eimran/colab_test.git"
      ],
      "metadata": {
        "colab": {
          "base_uri": "https://localhost:8080/"
        },
        "id": "sjJaG3QnpO0e",
        "outputId": "87150510-f961-4415-a5aa-4c82254b47f7"
      },
      "execution_count": 7,
      "outputs": [
        {
          "output_type": "stream",
          "name": "stdout",
          "text": [
            "fatal: destination path 'colab_test' already exists and is not an empty directory.\n"
          ]
        }
      ]
    },
    {
      "cell_type": "code",
      "source": [
        "!git status"
      ],
      "metadata": {
        "colab": {
          "base_uri": "https://localhost:8080/"
        },
        "id": "NcDD5Ik0qbix",
        "outputId": "6c209637-f3fb-42f0-ed38-26429212258a"
      },
      "execution_count": 6,
      "outputs": [
        {
          "output_type": "stream",
          "name": "stdout",
          "text": [
            "fatal: not a git repository (or any of the parent directories): .git\n"
          ]
        }
      ]
    },
    {
      "cell_type": "code",
      "execution_count": 8,
      "metadata": {
        "id": "1WqPvE9Ltdsi"
      },
      "outputs": [],
      "source": [
        "import torch\n",
        "import torch .nn as nn\n",
        "import numpy as np\n",
        "import matplotlib.pyplot as plt"
      ]
    },
    {
      "cell_type": "code",
      "source": [
        "# --------------------------\n",
        "# 1. Generate Synthetic Data\n",
        "# --------------------------\n",
        "\n",
        "# Physics parameters\n",
        "g = 9.7        # acceleration due to gravity\n",
        "h0 = 1.0       # initial height\n",
        "v0 = 10.0      # initial velocity\n",
        "\n",
        "# True (analytical) solution h(t) = h0 + v0*t - 0.5*g*t^2\n",
        "def true_solution(t):\n",
        "    return h0 + v0*t - 0.5*g*(t**2)\n",
        "\n",
        "# Generate some time points\n",
        "t_min, t_max = 0.0, 2.0\n",
        "N_data = 10\n",
        "t_data = np.linspace(t_min, t_max, N_data)\n",
        "\n",
        "# Generate synthetic \"experimental\" heights with noise\n",
        "np.random.seed(0)\n",
        "noise_level = 0.7\n",
        "h_data_exact = true_solution(t_data)\n",
        "h_data_noisy = h_data_exact + noise_level*np.random.randn(N_data)\n",
        "\n",
        "# Convert to PyTorch tensors\n",
        "t_data_tensor = torch.tensor(t_data, dtype=torch.float32).view(-1, 1)\n",
        "h_data_tensor = torch.tensor(h_data_noisy, dtype=torch.float32).view(-1, 1)"
      ],
      "metadata": {
        "id": "s6nBy2VouEKr"
      },
      "execution_count": 9,
      "outputs": []
    },
    {
      "cell_type": "markdown",
      "source": [
        "Define a small feed-forward neural network for h(t)"
      ],
      "metadata": {
        "id": "ieB2mRKx5VIR"
      }
    },
    {
      "cell_type": "code",
      "source": [
        "# --------------------------------------------------------\n",
        "# 2. Define a small feed-forward neural network for h(t)\n",
        "# --------------------------------------------------------\n",
        "class PINN(nn.Module):\n",
        "    def __init__(self, n_hidden=20):\n",
        "        super(PINN, self).__init__()\n",
        "        # A simple MLP with 2 hidden layers\n",
        "        self.net = nn.Sequential(\n",
        "            nn.Linear(1, n_hidden),\n",
        "            nn.Tanh(),\n",
        "            nn.Linear(n_hidden, n_hidden),\n",
        "            nn.Tanh(),\n",
        "            nn.Linear(n_hidden, 1)\n",
        "        )\n",
        "\n",
        "    def forward(self, t):\n",
        "        \"\"\"\n",
        "        Forward pass: input shape (batch_size, 1) -> output shape (batch_size, 1)\n",
        "        \"\"\"\n",
        "        return self.net(t)\n",
        "\n",
        "# Instantiate the model\n",
        "model = PINN(n_hidden=20)"
      ],
      "metadata": {
        "id": "DjLxfstCup1P"
      },
      "execution_count": 10,
      "outputs": []
    },
    {
      "cell_type": "markdown",
      "source": [
        "Helper for Automatic Differentiation"
      ],
      "metadata": {
        "id": "hw9iu8fz5dSV"
      }
    },
    {
      "cell_type": "code",
      "source": [
        "# --------------------------------\n",
        "# 3. Helper for Automatic Diff\n",
        "# --------------------------------\n",
        "def derivative(y, x):\n",
        "    \"\"\"\n",
        "    Computes dy/dx using PyTorch's autograd.\n",
        "    y and x must be tensors with requires_grad=True for x.\n",
        "    \"\"\"\n",
        "    return torch.autograd.grad(\n",
        "        y, x,\n",
        "        grad_outputs=torch.ones_like(y),\n",
        "        create_graph=True\n",
        "    )[0]"
      ],
      "metadata": {
        "id": "uBmARiNfvtUD"
      },
      "execution_count": 11,
      "outputs": []
    },
    {
      "cell_type": "markdown",
      "source": [
        "Define the Loss Components (PINN)"
      ],
      "metadata": {
        "id": "ZUIKQmh_5fhh"
      }
    },
    {
      "cell_type": "code",
      "source": [
        "# ----------------------------------------\n",
        "# 4. Define the Loss Components (PINN)\n",
        "# ----------------------------------------\n",
        "\n",
        "# We have:\n",
        "#    (1) Data loss (fit noisy data)\n",
        "#    (2) ODE loss: dh/dt = v0 - g * t\n",
        "#    (3) Initial condition loss: h(0) = h0\n",
        "\n",
        "def physics_loss(model, t):\n",
        "    \"\"\"\n",
        "    Compare d(h_pred)/dt with the known expression (v0 - g t).\n",
        "    \"\"\"\n",
        "    # t must have requires_grad = True for autograd to work\n",
        "    t.requires_grad_(True)\n",
        "\n",
        "    h_pred = model(t)\n",
        "    dh_dt_pred = derivative(h_pred, t)\n",
        "\n",
        "    # For each t, physics says dh/dt = v0 - g * t\n",
        "    dh_dt_true = v0 - g * t\n",
        "\n",
        "    loss_ode = torch.mean((dh_dt_pred - dh_dt_true)**2)\n",
        "    return loss_ode\n",
        "\n",
        "def initial_condition_loss(model):\n",
        "    \"\"\"\n",
        "    Enforce h(0) = h0.\n",
        "    \"\"\"\n",
        "    # Evaluate at t=0\n",
        "    t0 = torch.zeros(1, 1, dtype=torch.float32, requires_grad=False)\n",
        "    h0_pred = model(t0)\n",
        "    return (h0_pred - h0).pow(2).mean()\n",
        "\n",
        "def data_loss(model, t_data, h_data):\n",
        "    \"\"\"\n",
        "    MSE between predicted h(t_i) and noisy measurements h_data.\n",
        "    \"\"\"\n",
        "    h_pred = model(t_data)\n",
        "    return torch.mean((h_pred - h_data)**2)\n"
      ],
      "metadata": {
        "id": "iFS5Pt8E5a2k"
      },
      "execution_count": 12,
      "outputs": []
    },
    {
      "cell_type": "markdown",
      "source": [
        "Training Setup"
      ],
      "metadata": {
        "id": "wt7gCwZR5j6X"
      }
    },
    {
      "cell_type": "code",
      "source": [
        "# ---------------------------------------\n",
        "# 5. Training Setup\n",
        "# ---------------------------------------\n",
        "optimizer = torch.optim.Adam(model.parameters(), lr=0.01)\n",
        "\n",
        "# Hyperparameters for weighting the loss terms\n",
        "lambda_data = 1.0\n",
        "lambda_ode  = 1.0\n",
        "lambda_ic   = 1.0\n",
        "\n",
        "# For logging\n",
        "num_epochs = 2000\n",
        "print_every = 200"
      ],
      "metadata": {
        "id": "QzVPuEGn5iPm"
      },
      "execution_count": 13,
      "outputs": []
    },
    {
      "cell_type": "markdown",
      "source": [
        "Training Loop"
      ],
      "metadata": {
        "id": "63UHmwuQ5o9Q"
      }
    },
    {
      "cell_type": "code",
      "source": [
        "# ---------------------------------------\n",
        "# 6. Training Loop\n",
        "# ---------------------------------------\n",
        "model.train()\n",
        "for epoch in range(num_epochs):\n",
        "    optimizer.zero_grad()\n",
        "\n",
        "    # Compute losses\n",
        "    l_data = data_loss(model, t_data_tensor, h_data_tensor)\n",
        "    l_ode  = physics_loss(model, t_data_tensor)\n",
        "    l_ic   = initial_condition_loss(model)\n",
        "\n",
        "    # Combined loss\n",
        "    loss = lambda_data * l_data + lambda_ode * l_ode + lambda_ic * l_ic\n",
        "\n",
        "    # Backprop\n",
        "    loss.backward()\n",
        "    optimizer.step()\n",
        "\n",
        "    # Print progress\n",
        "    if (epoch+1) % print_every == 0:\n",
        "        print(f\"Epoch {epoch+1}/{num_epochs}, \"\n",
        "              f\"Total Loss = {loss.item():.6f}, \"\n",
        "              f\"Data Loss = {l_data.item():.6f}, \"\n",
        "              f\"ODE Loss = {l_ode.item():.6f}, \"\n",
        "              f\"IC Loss = {l_ic.item():.6f}\")"
      ],
      "metadata": {
        "colab": {
          "base_uri": "https://localhost:8080/"
        },
        "id": "UFAJPPEd5lj4",
        "outputId": "450f0472-a380-42d5-8087-6e8821c22c0f"
      },
      "execution_count": 14,
      "outputs": [
        {
          "output_type": "stream",
          "name": "stdout",
          "text": [
            "Epoch 200/2000, Total Loss = 0.546743, Data Loss = 0.483366, ODE Loss = 0.025124, IC Loss = 0.038253\n",
            "Epoch 400/2000, Total Loss = 0.538408, Data Loss = 0.480515, ODE Loss = 0.022946, IC Loss = 0.034947\n",
            "Epoch 600/2000, Total Loss = 0.532636, Data Loss = 0.479530, ODE Loss = 0.021879, IC Loss = 0.031228\n",
            "Epoch 800/2000, Total Loss = 0.525374, Data Loss = 0.478858, ODE Loss = 0.020848, IC Loss = 0.025669\n",
            "Epoch 1000/2000, Total Loss = 0.517724, Data Loss = 0.478709, ODE Loss = 0.020441, IC Loss = 0.018575\n",
            "Epoch 1200/2000, Total Loss = 0.510206, Data Loss = 0.472607, ODE Loss = 0.022427, IC Loss = 0.015172\n",
            "Epoch 1400/2000, Total Loss = 0.504268, Data Loss = 0.466516, ODE Loss = 0.024456, IC Loss = 0.013295\n",
            "Epoch 1600/2000, Total Loss = 0.501432, Data Loss = 0.462415, ODE Loss = 0.026277, IC Loss = 0.012740\n",
            "Epoch 1800/2000, Total Loss = 0.500940, Data Loss = 0.462469, ODE Loss = 0.025844, IC Loss = 0.012627\n",
            "Epoch 2000/2000, Total Loss = 0.500637, Data Loss = 0.460634, ODE Loss = 0.027369, IC Loss = 0.012635\n"
          ]
        }
      ]
    },
    {
      "cell_type": "markdown",
      "source": [
        "Evaluate the Trained Model"
      ],
      "metadata": {
        "id": "hw-NRL125wBv"
      }
    },
    {
      "cell_type": "code",
      "source": [
        "# ---------------------------------------\n",
        "# 7. Evaluate the Trained Model\n",
        "# ---------------------------------------\n",
        "model.eval()\n",
        "t_plot = np.linspace(t_min, t_max, 100).reshape(-1, 1).astype(np.float32)\n",
        "t_plot_tensor = torch.tensor(t_plot, requires_grad=True)\n",
        "h_pred_plot = model(t_plot_tensor).detach().numpy()\n",
        "\n",
        "# True solution (for comparison)\n",
        "h_true_plot = true_solution(t_plot)\n",
        "\n",
        "# Plot results\n",
        "plt.figure(figsize=(8, 5))\n",
        "plt.scatter(t_data, h_data_noisy, color='red', label='Noisy Data')\n",
        "plt.plot(t_plot, h_true_plot, 'k--', label='Exact Solution')\n",
        "plt.plot(t_plot, h_pred_plot, 'b', label='PINN Prediction')\n",
        "plt.xlabel('t')\n",
        "plt.ylabel('h(t)')\n",
        "plt.legend()\n",
        "plt.title('PINN for Ball Trajectory')\n",
        "plt.grid(True)\n",
        "plt.show()"
      ],
      "metadata": {
        "colab": {
          "base_uri": "https://localhost:8080/",
          "height": 487
        },
        "id": "zyhC9xYN5rA6",
        "outputId": "f9813a4b-18d2-4bee-e417-e31a233eadb0"
      },
      "execution_count": 15,
      "outputs": [
        {
          "output_type": "display_data",
          "data": {
            "text/plain": [
              "<Figure size 800x500 with 1 Axes>"
            ],
            "image/png": "[encoded data removed]"
          },
          "metadata": {}
        }
      ]
    },
    {
      "cell_type": "code",
      "source": [
        "!git status"
      ],
      "metadata": {
        "id": "KAepXl2p5yTk",
        "colab": {
          "base_uri": "https://localhost:8080/"
        },
        "outputId": "3d156df4-3c4f-443c-c435-fbcb81da8263"
      },
      "execution_count": 16,
      "outputs": [
        {
          "output_type": "stream",
          "name": "stdout",
          "text": [
            "fatal: not a git repository (or any of the parent directories): .git\n"
          ]
        }
      ]
    },
    {
      "cell_type": "code",
      "source": [
        "!git add ."
      ],
      "metadata": {
        "id": "c5RwxdhNsC1P",
        "outputId": "a9486ce5-16e1-4007-8ab2-0af63ada6243",
        "colab": {
          "base_uri": "https://localhost:8080/"
        }
      },
      "execution_count": 17,
      "outputs": [
        {
          "output_type": "stream",
          "name": "stdout",
          "text": [
            "fatal: not a git repository (or any of the parent directories): .git\n"
          ]
        }
      ]
    },
    {
      "cell_type": "code",
      "source": [
        "!git clone https://github.com/eimran/colab_test.git"
      ],
      "metadata": {
        "id": "TsIewbgWsFaK",
        "outputId": "f3640bfd-6fcd-4fa2-b6c7-125d45b98bd5",
        "colab": {
          "base_uri": "https://localhost:8080/"
        }
      },
      "execution_count": 18,
      "outputs": [
        {
          "output_type": "stream",
          "name": "stdout",
          "text": [
            "fatal: destination path 'colab_test' already exists and is not an empty directory.\n"
          ]
        }
      ]
    },
    {
      "cell_type": "code",
      "source": [
        "!%cd"
      ],
      "metadata": {
        "id": "u0q1VjYisUFd",
        "outputId": "520a2ace-fc06-4d12-daac-9946ae860c67",
        "colab": {
          "base_uri": "https://localhost:8080/"
        }
      },
      "execution_count": 19,
      "outputs": [
        {
          "output_type": "stream",
          "name": "stdout",
          "text": [
            "/bin/bash: line 1: fg: no job control\n"
          ]
        }
      ]
    },
    {
      "cell_type": "code",
      "source": [
        "!rm -rf colab_test"
      ],
      "metadata": {
        "id": "30XAggyLsjYi"
      },
      "execution_count": 20,
      "outputs": []
    },
    {
      "cell_type": "code",
      "source": [
        "!git clone https://github.com/eimran/colab_test.git"
      ],
      "metadata": {
        "id": "K5_5BD8AsmqJ",
        "outputId": "d2e38afa-b491-40f3-b1fc-e5bed510d96b",
        "colab": {
          "base_uri": "https://localhost:8080/"
        }
      },
      "execution_count": 22,
      "outputs": [
        {
          "output_type": "stream",
          "name": "stdout",
          "text": [
            "Cloning into 'colab_test'...\n",
            "remote: Enumerating objects: 7, done.\u001b[K\n",
            "remote: Counting objects: 100% (7/7), done.\u001b[K\n",
            "remote: Compressing objects: 100% (6/6), done.\u001b[K\n",
            "remote: Total 7 (delta 1), reused 3 (delta 0), pack-reused 0 (from 0)\u001b[K\n",
            "Receiving objects: 100% (7/7), 44.02 KiB | 2.93 MiB/s, done.\n",
            "Resolving deltas: 100% (1/1), done.\n"
          ]
        }
      ]
    },
    {
      "cell_type": "code",
      "source": [
        "%cd colab_test/"
      ],
      "metadata": {
        "id": "yPuN5ijtspEj",
        "outputId": "bfc6f945-a889-479c-ff5b-84a0c38e680c",
        "colab": {
          "base_uri": "https://localhost:8080/"
        }
      },
      "execution_count": 23,
      "outputs": [
        {
          "output_type": "stream",
          "name": "stdout",
          "text": [
            "/content/colab_test\n"
          ]
        }
      ]
    },
    {
      "cell_type": "code",
      "source": [
        "!git add ."
      ],
      "metadata": {
        "id": "SRANvCM9s3i0"
      },
      "execution_count": 24,
      "outputs": []
    },
    {
      "cell_type": "code",
      "source": [
        "!git commit -m fromColab"
      ],
      "metadata": {
        "id": "Z2CJpMnHs85l",
        "outputId": "5708f77f-3655-4067-ad85-918445f2e708",
        "colab": {
          "base_uri": "https://localhost:8080/"
        }
      },
      "execution_count": 25,
      "outputs": [
        {
          "output_type": "stream",
          "name": "stdout",
          "text": [
            "Author identity unknown\n",
            "\n",
            "*** Please tell me who you are.\n",
            "\n",
            "Run\n",
            "\n",
            "  git config --global user.email \"you@example.com\"\n",
            "  git config --global user.name \"Your Name\"\n",
            "\n",
            "to set your account's default identity.\n",
            "Omit --global to set the identity only in this repository.\n",
            "\n",
            "fatal: unable to auto-detect email address (got 'root@97cebc483d38.(none)')\n"
          ]
        }
      ]
    },
    {
      "cell_type": "code",
      "source": [
        "!git config --global user.email \"eimran.cse@gmail.com\""
      ],
      "metadata": {
        "id": "ntytGqqZtAwA"
      },
      "execution_count": 27,
      "outputs": []
    },
    {
      "cell_type": "code",
      "source": [
        "!git config --global eimran.name \"Imran Masud\""
      ],
      "metadata": {
        "id": "g8RXtJcMtLZe"
      },
      "execution_count": 29,
      "outputs": []
    },
    {
      "cell_type": "code",
      "source": [
        "!git commit -m fromColab"
      ],
      "metadata": {
        "id": "foOAmnvxtSBl",
        "outputId": "425570c6-8c47-4dd4-e450-beb0d1fffc50",
        "colab": {
          "base_uri": "https://localhost:8080/"
        }
      },
      "execution_count": 30,
      "outputs": [
        {
          "output_type": "stream",
          "name": "stdout",
          "text": [
            "On branch main\n",
            "Your branch is up to date with 'origin/main'.\n",
            "\n",
            "nothing to commit, working tree clean\n"
          ]
        }
      ]
    },
    {
      "cell_type": "code",
      "source": [
        "!git push origin main"
      ],
      "metadata": {
        "id": "TRybabKjtWp_",
        "outputId": "26f19d29-e458-480c-fbdf-1da37a603ea1",
        "colab": {
          "base_uri": "https://localhost:8080/"
        }
      },
      "execution_count": 31,
      "outputs": [
        {
          "output_type": "stream",
          "name": "stdout",
          "text": [
            "fatal: could not read Username for 'https://github.com': No such device or address\n"
          ]
        }
      ]
    },
    {
      "cell_type": "code",
      "source": [
        "!git push"
      ],
      "metadata": {
        "id": "ur3b3Ehote22",
        "outputId": "5446ae27-09c1-4151-9b53-31ccf4bd1c3c",
        "colab": {
          "base_uri": "https://localhost:8080/"
        }
      },
      "execution_count": 32,
      "outputs": [
        {
          "output_type": "stream",
          "name": "stdout",
          "text": [
            "fatal: could not read Username for 'https://github.com': No such device or address\n"
          ]
        }
      ]
    },
    {
      "cell_type": "code",
      "source": [
        "!git config --global user.name \"Imran Masud\""
      ],
      "metadata": {
        "id": "IV2YdnK3toLT"
      },
      "execution_count": 33,
      "outputs": []
    },
    {
      "cell_type": "code",
      "source": [
        "!git add ."
      ],
      "metadata": {
        "id": "huLZHiHJtxhz"
      },
      "execution_count": 34,
      "outputs": []
    },
    {
      "cell_type": "code",
      "source": [
        "!git commit -m fromColab"
      ],
      "metadata": {
        "id": "b0eP7tAJt0je",
        "outputId": "ade3c733-368d-4c30-bfc7-155690e4fe54",
        "colab": {
          "base_uri": "https://localhost:8080/"
        }
      },
      "execution_count": 35,
      "outputs": [
        {
          "output_type": "stream",
          "name": "stdout",
          "text": [
            "On branch main\n",
            "Your branch is up to date with 'origin/main'.\n",
            "\n",
            "nothing to commit, working tree clean\n"
          ]
        }
      ]
    },
    {
      "cell_type": "code",
      "source": [
        "!git push origin main"
      ],
      "metadata": {
        "id": "Ah46URHjt1ux",
        "outputId": "d8bbb25b-8b82-4b11-e087-fa4e90e2ad18",
        "colab": {
          "base_uri": "https://localhost:8080/"
        }
      },
      "execution_count": 36,
      "outputs": [
        {
          "output_type": "stream",
          "name": "stdout",
          "text": [
            "fatal: could not read Username for 'https://github.com': No such device or address\n"
          ]
        }
      ]
    },
    {
      "cell_type": "code",
      "source": [
        "%cd colab_test"
      ],
      "metadata": {
        "id": "O5YfzcZot47U",
        "outputId": "f25fbcbc-856c-4e09-e4cb-5478446b83b4",
        "colab": {
          "base_uri": "https://localhost:8080/"
        }
      },
      "execution_count": 37,
      "outputs": [
        {
          "output_type": "stream",
          "name": "stdout",
          "text": [
            "[Errno 2] No such file or directory: 'colab_test'\n",
            "/content/colab_test\n"
          ]
        }
      ]
    },
    {
      "cell_type": "code",
      "source": [
        "%cd colab_test/"
      ],
      "metadata": {
        "id": "T-kcJWoOuPLQ",
        "outputId": "17104c92-6481-44dd-b8d0-d880b8355cf5",
        "colab": {
          "base_uri": "https://localhost:8080/"
        }
      },
      "execution_count": 38,
      "outputs": [
        {
          "output_type": "stream",
          "name": "stdout",
          "text": [
            "[Errno 2] No such file or directory: 'colab_test/'\n",
            "/content/colab_test\n"
          ]
        }
      ]
    },
    {
      "cell_type": "code",
      "source": [
        "!git clone https://github.com/eimran/colab_test.git"
      ],
      "metadata": {
        "id": "m6X4UyAeuSBI",
        "outputId": "134c8ebf-6154-4229-a167-550b53c05f5b",
        "colab": {
          "base_uri": "https://localhost:8080/"
        }
      },
      "execution_count": 39,
      "outputs": [
        {
          "output_type": "stream",
          "name": "stdout",
          "text": [
            "Cloning into 'colab_test'...\n",
            "remote: Enumerating objects: 7, done.\u001b[K\n",
            "remote: Counting objects: 100% (7/7), done.\u001b[K\n",
            "remote: Compressing objects: 100% (6/6), done.\u001b[K\n",
            "remote: Total 7 (delta 1), reused 3 (delta 0), pack-reused 0 (from 0)\u001b[K\n",
            "Receiving objects: 100% (7/7), 44.02 KiB | 2.75 MiB/s, done.\n",
            "Resolving deltas: 100% (1/1), done.\n"
          ]
        }
      ]
    },
    {
      "cell_type": "code",
      "source": [
        "%cd colab_test/"
      ],
      "metadata": {
        "id": "5-WaPMlrudJQ",
        "outputId": "3e170bb3-1073-454c-b84e-fe5b796fded5",
        "colab": {
          "base_uri": "https://localhost:8080/"
        }
      },
      "execution_count": 40,
      "outputs": [
        {
          "output_type": "stream",
          "name": "stdout",
          "text": [
            "/content/colab_test/colab_test\n"
          ]
        }
      ]
    },
    {
      "cell_type": "code",
      "source": [
        "!git add ."
      ],
      "metadata": {
        "id": "VEFy1nK0uhEs"
      },
      "execution_count": 41,
      "outputs": []
    },
    {
      "cell_type": "code",
      "source": [
        "!git commit -m fromColab"
      ],
      "metadata": {
        "id": "PIG_4AL0ukzx",
        "outputId": "47dd176c-c16f-4736-efc8-5ced393b62f3",
        "colab": {
          "base_uri": "https://localhost:8080/"
        }
      },
      "execution_count": 42,
      "outputs": [
        {
          "output_type": "stream",
          "name": "stdout",
          "text": [
            "On branch main\n",
            "Your branch is up to date with 'origin/main'.\n",
            "\n",
            "nothing to commit, working tree clean\n"
          ]
        }
      ]
    },
    {
      "cell_type": "code",
      "source": [
        "!git push origin main"
      ],
      "metadata": {
        "id": "htuZQluxum7Q",
        "outputId": "30848ab7-9cc9-40b6-a328-f012ff5dda6b",
        "colab": {
          "base_uri": "https://localhost:8080/"
        }
      },
      "execution_count": 43,
      "outputs": [
        {
          "output_type": "stream",
          "name": "stdout",
          "text": [
            "fatal: could not read Username for 'https://github.com': No such device or address\n"
          ]
        }
      ]
    },
    {
      "cell_type": "code",
      "source": [
        "!git config --global user.email \"eimran.cse@gmail.com\""
      ],
      "metadata": {
        "id": "PecUhHenuqdN"
      },
      "execution_count": 45,
      "outputs": []
    },
    {
      "cell_type": "code",
      "source": [
        "!git config --global user.name \"eimran\""
      ],
      "metadata": {
        "id": "EguwTuthuuCa"
      },
      "execution_count": 46,
      "outputs": []
    },
    {
      "cell_type": "code",
      "source": [
        "!git push origin main"
      ],
      "metadata": {
        "id": "OQChkahMuyrV",
        "outputId": "d8bf353e-6c57-423d-bda2-ec8f3d6c9f0e",
        "colab": {
          "base_uri": "https://localhost:8080/"
        }
      },
      "execution_count": 47,
      "outputs": [
        {
          "output_type": "stream",
          "name": "stdout",
          "text": [
            "fatal: could not read Username for 'https://github.com': No such device or address\n"
          ]
        }
      ]
    },
    {
      "cell_type": "code",
      "source": [
        "%cd colab_test/"
      ],
      "metadata": {
        "id": "FCC5Nu-Cu0B_",
        "outputId": "87c77fb2-8630-4af0-919f-bcc4c1a73f89",
        "colab": {
          "base_uri": "https://localhost:8080/"
        }
      },
      "execution_count": 48,
      "outputs": [
        {
          "output_type": "stream",
          "name": "stdout",
          "text": [
            "[Errno 2] No such file or directory: 'colab_test/'\n",
            "/content/colab_test/colab_test\n"
          ]
        }
      ]
    },
    {
      "cell_type": "code",
      "source": [
        "%cd /content\n",
        "!ls"
      ],
      "metadata": {
        "id": "eU4oU3vru2Zp",
        "outputId": "011c1997-1fe8-4804-fa0e-f97ee8d58889",
        "colab": {
          "base_uri": "https://localhost:8080/"
        }
      },
      "execution_count": 49,
      "outputs": [
        {
          "output_type": "stream",
          "name": "stdout",
          "text": [
            "/content\n",
            "colab_test  sample_data\n"
          ]
        }
      ]
    },
    {
      "cell_type": "code",
      "source": [
        "!git push origin main"
      ],
      "metadata": {
        "id": "KqjDy6CVvMjJ",
        "outputId": "302158c8-bbc0-437d-e964-7203f2fa0a21",
        "colab": {
          "base_uri": "https://localhost:8080/"
        }
      },
      "execution_count": 50,
      "outputs": [
        {
          "output_type": "stream",
          "name": "stdout",
          "text": [
            "fatal: not a git repository (or any of the parent directories): .git\n"
          ]
        }
      ]
    },
    {
      "cell_type": "code",
      "source": [],
      "metadata": {
        "id": "IOfGvxlovSCe"
      },
      "execution_count": null,
      "outputs": []
    }
  ]
}